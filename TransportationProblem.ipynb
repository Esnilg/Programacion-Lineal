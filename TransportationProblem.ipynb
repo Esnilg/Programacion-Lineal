{
  "nbformat": 4,
  "nbformat_minor": 0,
  "metadata": {
    "colab": {
      "provenance": []
    },
    "kernelspec": {
      "name": "python3",
      "display_name": "Python 3"
    },
    "language_info": {
      "name": "python"
    }
  },
  "cells": [
    {
      "cell_type": "code",
      "source": [
        "!pip install -q pyomo"
      ],
      "metadata": {
        "id": "icBxxhlFspo2"
      },
      "execution_count": null,
      "outputs": []
    },
    {
      "cell_type": "code",
      "source": [
        "!apt-get install -y -qq glpk-utils"
      ],
      "metadata": {
        "id": "4cVyoebAs_JM"
      },
      "execution_count": null,
      "outputs": []
    },
    {
      "cell_type": "code",
      "source": [
        "!pip install geopy"
      ],
      "metadata": {
        "id": "8LuMyLGe5llw"
      },
      "execution_count": null,
      "outputs": []
    },
    {
      "cell_type": "code",
      "source": [
        "!pip install folium"
      ],
      "metadata": {
        "id": "np8RAS4Ljb_H"
      },
      "execution_count": null,
      "outputs": []
    },
    {
      "cell_type": "code",
      "source": [
        "import pandas as pd\n",
        "import folium"
      ],
      "metadata": {
        "id": "VLRfsjFd6R8f"
      },
      "execution_count": 16,
      "outputs": []
    },
    {
      "cell_type": "markdown",
      "source": [
        "# A Transportation Problem\n",
        "\n",
        "This problem finds a least cost shipping schedule that meets\n",
        "requirements at markets and supplies at factories.\n",
        "\n",
        "\n",
        "Dantzig, G B, Chapter 3.3. In Linear Programming and Extensions.\n",
        "Princeton University Press, Princeton, New Jersey, 1963.\n",
        "\n",
        "This formulation is described in detail in:\n",
        "Rosenthal, R E, Chapter 2: A GAMS Tutorial. In GAMS: A User's Guide.\n",
        "The Scientific Press, Redwood City, California, 1988. \n",
        "\n",
        "https://www.gams.com/latest/docs/UG_Tutorial.html\n",
        "\n",
        "The line numbers will not match those in the book because of these\n",
        "comments.\n",
        "\n",
        "Keywords: linear programming, transportation problem, scheduling\n",
        "\n",
        "In the familiar transportation problem, we are given the supplies at several plants and the demands at several markets for a single commodity, and we are given the unit costs of shipping the commodity from plants to markets. The economic question is: how much shipment should there be between each plant and each market so as to minimize total transport cost?\n",
        "\n",
        "\n",
        "| Plants ↓          | New York\t  | Chicago\t      | Topeka\t     | ←Markets|\n",
        "|-------------------|-------------|---------------|--------------|--------|\n",
        "| Seattle           | 2.5         |\t1.7           |\t1.8\t         | 350    |\n",
        "| San Diego         | 2.5         |\t1.8\t          | 1.4\t         | 600    |\n",
        "| Demands →         | 325\t        | 300           |\t275          |Supplies↑      |\n"
      ],
      "metadata": {
        "id": "NLQfJ065dz9L"
      }
    },
    {
      "cell_type": "code",
      "source": [
        "from geopy.geocoders import Photon\n",
        "geolocator = Photon(user_agent=\"measurements\")"
      ],
      "metadata": {
        "id": "vbxQMt6EkNBc"
      },
      "execution_count": 7,
      "outputs": []
    },
    {
      "cell_type": "code",
      "source": [
        "\n",
        "# Lista de ciudades en A y B\n",
        "A = ['seattle', 'san-diego'] # nodos origen (plantas)\n",
        "B = ['new-york', 'chicago', 'topeka'] # nodos destinos (mercados)\n",
        "\n",
        "# Obtener coordenadas de ciudades en la lista A\n",
        "coordenadas_A = {}\n",
        "for ciudad in A:\n",
        "    location = geolocator.geocode(ciudad)\n",
        "    if location is not None:\n",
        "        coordenadas_A[ciudad] = (location.latitude, location.longitude)\n",
        "    else:\n",
        "        coordenadas_A[ciudad] = (None, None)\n",
        "\n",
        "# Obtener coordenadas de ciudades en la lista B\n",
        "coordenadas_B = {}\n",
        "for ciudad in B:\n",
        "    location = geolocator.geocode(ciudad)\n",
        "    if location is not None:\n",
        "        coordenadas_B[ciudad] = (location.latitude, location.longitude)\n",
        "    else:\n",
        "        coordenadas_B[ciudad] = (None, None)\n",
        "\n",
        "# Imprimir resultados\n",
        "print(\"Coordenadas de ciudades en A:\")\n",
        "for ciudad, Ubi in coordenadas_A.items():\n",
        "    print(f\"Ciudad: {ciudad}, Latitud: {Ubi[0]}, Longitud: {Ubi[1]}\")\n",
        "\n",
        "print(\"Coordenadas de ciudades en B:\")\n",
        "for ciudad, Ubi in coordenadas_B.items():\n",
        "    print(f\"Ciudad: {ciudad}, Latitud: {Ubi[0]}, Longitud: {Ubi[1]}\")\n",
        "\n",
        "\n",
        "ciudades = {**coordenadas_A,**coordenadas_B}"
      ],
      "metadata": {
        "colab": {
          "base_uri": "https://localhost:8080/"
        },
        "id": "lVATGBAjejHE",
        "outputId": "be68b6d9-771f-486c-a367-f4b9feff9f57"
      },
      "execution_count": 8,
      "outputs": [
        {
          "output_type": "stream",
          "name": "stdout",
          "text": [
            "Coordenadas de ciudades en A:\n",
            "Ciudad: seattle, Latitud: 47.6038321, Longitud: -122.330062\n",
            "Ciudad: san-diego, Latitud: 32.7174202, Longitud: -117.1627728\n",
            "Coordenadas de ciudades en B:\n",
            "Ciudad: new-york, Latitud: 40.7127281, Longitud: -74.0060152\n",
            "Ciudad: chicago, Latitud: 41.8755616, Longitud: -87.6244212\n",
            "Ciudad: topeka, Latitud: 39.049011, Longitud: -95.677556\n"
          ]
        }
      ]
    },
    {
      "cell_type": "code",
      "source": [
        "import networkx as nx\n",
        "import matplotlib.pyplot as plt\n",
        "from geopy.distance import great_circle\n",
        "\n",
        "# Crear un grafo vacío\n",
        "G = nx.Graph()\n",
        "\n",
        "# Visualizar el grafo con etiquetas de ciudades y pesos en las aristas\n",
        "pos = {} #nx.spring_layout(G)  # Asignar posiciones a los nodos\n",
        "\n",
        "# Agregar nodos con nombres de ciudades como etiquetas\n",
        "# Agregar nodos de ciudades en A con color rojo\n",
        "for ciudad in coordenadas_A.keys():\n",
        "    G.add_node(ciudad, color='red')\n",
        "    pos[ciudad] = (coordenadas_A.get(ciudad)[1],coordenadas_A.get(ciudad)[0])\n",
        "\n",
        "# Agregar nodos de ciudades en B con color azul\n",
        "for ciudad in coordenadas_B.keys():\n",
        "    G.add_node(ciudad, color='blue')\n",
        "    pos[ciudad] = (coordenadas_B.get(ciudad)[1],coordenadas_B.get(ciudad)[0])\n",
        "\n",
        "# Calcular y agregar aristas (conexiones) con la distancia entre ciudades\n",
        "for ciudad1, coord1 in coordenadas_A.items():\n",
        "    for ciudad2, coord2 in coordenadas_B.items():\n",
        "      distancia = great_circle(coord1, coord2).km  # Calcular distancia en kilómetros\n",
        "      G.add_edge(ciudad1, ciudad2, weight=distancia)  # Agregar arista con atributo de peso (distancia)\n",
        "\n",
        "# Obtener colores de nodos\n",
        "colors = [G.nodes[node]['color'] for node in G.nodes()]\n",
        "\n",
        "nx.draw_networkx_nodes(G, pos, node_color=colors, node_size=500)  # Dibujar nodos\n",
        "nx.draw_networkx_labels(G, pos, labels={ciudad: ciudad for ciudad in ciudades})  # Dibujar etiquetas de ciudades\n",
        "nx.draw_networkx_edges(G, pos, width=1.0, alpha=0.5)  # Dibujar aristas\n",
        "nx.draw_networkx_edge_labels(G, pos, edge_labels={(ciudad1, ciudad2): f\"{distancia:.2f} km\" for (ciudad1, ciudad2, distancia) in G.edges(data='weight')}, label_pos=0.5, font_size=8)  # Dibujar etiquetas de pesos en aristas\n",
        "plt.axis('off')  # Desactivar los ejes\n",
        "plt.title(\"Red de Ciudades con Distancias\")  # Agregar título al grafo\n",
        "plt.show()  # Mostrar el grafo"
      ],
      "metadata": {
        "colab": {
          "base_uri": "https://localhost:8080/",
          "height": 428
        },
        "id": "cc-H1orCd2Ot",
        "outputId": "24ef5dc5-ba1c-4b88-c15d-5217cec63410"
      },
      "execution_count": 9,
      "outputs": [
        {
          "output_type": "display_data",
          "data": {
            "text/plain": [
              "<Figure size 640x480 with 1 Axes>"
            ],
            "image/png": "[encoded data removed]"
          },
          "metadata": {}
        }
      ]
    },
    {
      "cell_type": "code",
      "source": [
        "my_map = folium.Map(location=(36.104087829589844,-86.77576446533203), zoom_start=4)"
      ],
      "metadata": {
        "id": "FmO3YYulkVwW"
      },
      "execution_count": 24,
      "outputs": []
    },
    {
      "cell_type": "code",
      "source": [
        "for index, row in ciudades.items():\n",
        "  folium.Marker(location=(row[0],row[1])).add_to(my_map)\n",
        "\n",
        "display(my_map)"
      ],
      "metadata": {
        "colab": {
          "base_uri": "https://localhost:8080/",
          "height": 866
        },
        "id": "H6cz9shZkwz8",
        "outputId": "dd77753c-984b-4371-9e2e-fb2cbf3bd783"
      },
      "execution_count": 25,
      "outputs": [
        {
          "output_type": "display_data",
          "data": {
            "text/plain": [
              "<folium.folium.Map at 0x7fc79a81a700>"
            ],
            "text/html": [
              "<div style=\"width:100%;\"><div style=\"position:relative;width:100%;height:0;padding-bottom:60%;\"><span style=\"color:#565656\">Make this Notebook Trusted to load map: File -> Trust Notebook</span><iframe srcdoc=\"&lt;!DOCTYPE html&gt;\n",
              "&lt;html&gt;\n",
              "&lt;head&gt;\n",
              "    \n",
              "    &lt;meta http-equiv=&quot;content-type&quot; content=&quot;text/html; charset=UTF-8&quot; /&gt;\n",
              "    \n",
              "        &lt;script&gt;\n",
              "            L_NO_TOUCH = false;\n",
              "            L_DISABLE_3D = false;\n",
              "        &lt;/script&gt;\n",
              "    \n",
              "    &lt;style&gt;html, body {width: 100%;height: 100%;margin: 0;padding: 0;}&lt;/style&gt;\n",
              "    &lt;style&gt;#map {position:absolute;top:0;bottom:0;right:0;left:0;}&lt;/style&gt;\n",
              "    &lt;script src=&quot;https://cdn.jsdelivr.net/npm/leaflet@1.9.3/dist/leaflet.js&quot;&gt;&lt;/script&gt;\n",
              "    &lt;script src=&quot;https://code.jquery.com/jquery-1.12.4.min.js&quot;&gt;&lt;/script&gt;\n",
              "    &lt;script src=&quot;https://cdn.jsdelivr.net/npm/bootstrap@5.2.2/dist/js/bootstrap.bundle.min.js&quot;&gt;&lt;/script&gt;\n",
              "    &lt;script src=&quot;https://cdnjs.cloudflare.com/ajax/libs/Leaflet.awesome-markers/2.0.2/leaflet.awesome-markers.js&quot;&gt;&lt;/script&gt;\n",
              "    &lt;link rel=&quot;stylesheet&quot; href=&quot;https://cdn.jsdelivr.net/npm/leaflet@1.9.3/dist/leaflet.css&quot;/&gt;\n",
              "    &lt;link rel=&quot;stylesheet&quot; href=&quot;https://cdn.jsdelivr.net/npm/bootstrap@5.2.2/dist/css/bootstrap.min.css&quot;/&gt;\n",
              "    &lt;link rel=&quot;stylesheet&quot; href=&quot;https://netdna.bootstrapcdn.com/bootstrap/3.0.0/css/bootstrap.min.css&quot;/&gt;\n",
              "    &lt;link rel=&quot;stylesheet&quot; href=&quot;https://cdn.jsdelivr.net/npm/@fortawesome/fontawesome-free@6.2.0/css/all.min.css&quot;/&gt;\n",
              "    &lt;link rel=&quot;stylesheet&quot; href=&quot;https://cdnjs.cloudflare.com/ajax/libs/Leaflet.awesome-markers/2.0.2/leaflet.awesome-markers.css&quot;/&gt;\n",
              "    &lt;link rel=&quot;stylesheet&quot; href=&quot;https://cdn.jsdelivr.net/gh/python-visualization/folium/folium/templates/leaflet.awesome.rotate.min.css&quot;/&gt;\n",
              "    \n",
              "            &lt;meta name=&quot;viewport&quot; content=&quot;width=device-width,\n",
              "                initial-scale=1.0, maximum-scale=1.0, user-scalable=no&quot; /&gt;\n",
              "            &lt;style&gt;\n",
              "                #map_f91676782ccf9e48d20f2269e460d983 {\n",
              "                    position: relative;\n",
              "                    width: 100.0%;\n",
              "                    height: 100.0%;\n",
              "                    left: 0.0%;\n",
              "                    top: 0.0%;\n",
              "                }\n",
              "                .leaflet-container { font-size: 1rem; }\n",
              "            &lt;/style&gt;\n",
              "        \n",
              "&lt;/head&gt;\n",
              "&lt;body&gt;\n",
              "    \n",
              "    \n",
              "            &lt;div class=&quot;folium-map&quot; id=&quot;map_f91676782ccf9e48d20f2269e460d983&quot; &gt;&lt;/div&gt;\n",
              "        \n",
              "&lt;/body&gt;\n",
              "&lt;script&gt;\n",
              "    \n",
              "    \n",
              "            var map_f91676782ccf9e48d20f2269e460d983 = L.map(\n",
              "                &quot;map_f91676782ccf9e48d20f2269e460d983&quot;,\n",
              "                {\n",
              "                    center: [36.104087829589844, -86.77576446533203],\n",
              "                    crs: L.CRS.EPSG3857,\n",
              "                    zoom: 4,\n",
              "                    zoomControl: true,\n",
              "                    preferCanvas: false,\n",
              "                }\n",
              "            );\n",
              "\n",
              "            \n",
              "\n",
              "        \n",
              "    \n",
              "            var tile_layer_6e5ca88c8cc3f78e2c95081f47367971 = L.tileLayer(\n",
              "                &quot;https://{s}.tile.openstreetmap.org/{z}/{x}/{y}.png&quot;,\n",
              "                {&quot;attribution&quot;: &quot;Data by \\u0026copy; \\u003ca target=\\&quot;_blank\\&quot; href=\\&quot;http://openstreetmap.org\\&quot;\\u003eOpenStreetMap\\u003c/a\\u003e, under \\u003ca target=\\&quot;_blank\\&quot; href=\\&quot;http://www.openstreetmap.org/copyright\\&quot;\\u003eODbL\\u003c/a\\u003e.&quot;, &quot;detectRetina&quot;: false, &quot;maxNativeZoom&quot;: 18, &quot;maxZoom&quot;: 18, &quot;minZoom&quot;: 0, &quot;noWrap&quot;: false, &quot;opacity&quot;: 1, &quot;subdomains&quot;: &quot;abc&quot;, &quot;tms&quot;: false}\n",
              "            ).addTo(map_f91676782ccf9e48d20f2269e460d983);\n",
              "        \n",
              "    \n",
              "            var marker_a0d982be6a76cd7357bfa08c61f792e3 = L.marker(\n",
              "                [47.6038321, -122.330062],\n",
              "                {}\n",
              "            ).addTo(map_f91676782ccf9e48d20f2269e460d983);\n",
              "        \n",
              "    \n",
              "            var marker_3c94147786af4f879d0425e46504da50 = L.marker(\n",
              "                [32.7174202, -117.1627728],\n",
              "                {}\n",
              "            ).addTo(map_f91676782ccf9e48d20f2269e460d983);\n",
              "        \n",
              "    \n",
              "            var marker_72f0081bce24a0fcca21b0f0c38314fa = L.marker(\n",
              "                [40.7127281, -74.0060152],\n",
              "                {}\n",
              "            ).addTo(map_f91676782ccf9e48d20f2269e460d983);\n",
              "        \n",
              "    \n",
              "            var marker_50fd40bc81a1470ae71fa07d1a1907b1 = L.marker(\n",
              "                [41.8755616, -87.6244212],\n",
              "                {}\n",
              "            ).addTo(map_f91676782ccf9e48d20f2269e460d983);\n",
              "        \n",
              "    \n",
              "            var marker_224f77995f862d5128bc06b63308d6e7 = L.marker(\n",
              "                [39.049011, -95.677556],\n",
              "                {}\n",
              "            ).addTo(map_f91676782ccf9e48d20f2269e460d983);\n",
              "        \n",
              "&lt;/script&gt;\n",
              "&lt;/html&gt;\" style=\"position:absolute;width:100%;height:100%;left:0;top:0;border:none !important;\" allowfullscreen webkitallowfullscreen mozallowfullscreen></iframe></div></div>"
            ]
          },
          "metadata": {}
        }
      ]
    },
    {
      "cell_type": "code",
      "source": [
        "from pyomo.environ import *\n",
        "\n",
        "A = list(coordenadas_A.keys())\n",
        "B = list(coordenadas_B.keys())\n",
        "\n",
        "# Definición de parámetros\n",
        "a = {'seattle': 350, 'san-diego': 600}\n",
        "b = {'new-york': 325, 'chicago': 300, 'topeka': 275}\n",
        "\n",
        "f = 90 # fletes en dolares por caja\n",
        "\n",
        "# Cálculo de costos de transporte\n",
        "c = {(i, j): f * G.get_edge_data(i, j)['weight'] / 1000 for i in coordenadas_A for j in coordenadas_B}\n",
        "\n",
        "# Creación del modelo\n",
        "transport = ConcreteModel(\"Transport\")\n",
        "\n",
        "# Definición de variables\n",
        "transport.x = Var(A, B, within=NonNegativeReals)\n",
        "\n",
        "# Definición de función objetivo\n",
        "transport.cost = Objective(expr=sum(c[i, j] * transport.x[i, j] for i in A for j in B), sense=minimize)\n",
        "\n",
        "# Definición de restricciones\n",
        "transport.supply = ConstraintList()\n",
        "for i in A:\n",
        "    transport.supply.add(sum(transport.x[i, j] for j in B) <= a[i])\n",
        "\n",
        "transport.demand = ConstraintList()\n",
        "for j in B:\n",
        "    transport.demand.add(sum(transport.x[i, j] for i in A) >= b[j])\n",
        "\n",
        "transport.pprint()\n"
      ],
      "metadata": {
        "colab": {
          "base_uri": "https://localhost:8080/"
        },
        "id": "xG7xcpkdhpPU",
        "outputId": "401c16cc-365f-4a5a-9a90-998e1ab6232b"
      },
      "execution_count": 30,
      "outputs": [
        {
          "output_type": "stream",
          "name": "stdout",
          "text": [
            "5 Set Declarations\n",
            "    demand_index : Size=1, Index=None, Ordered=Insertion\n",
            "        Key  : Dimen : Domain : Size : Members\n",
            "        None :     1 :    Any :    3 : {1, 2, 3}\n",
            "    supply_index : Size=1, Index=None, Ordered=Insertion\n",
            "        Key  : Dimen : Domain : Size : Members\n",
            "        None :     1 :    Any :    2 : {1, 2}\n",
            "    x_index : Size=1, Index=None, Ordered=True\n",
            "        Key  : Dimen : Domain              : Size : Members\n",
            "        None :     2 : x_index_0*x_index_1 :    6 : {('seattle', 'new-york'), ('seattle', 'chicago'), ('seattle', 'topeka'), ('san-diego', 'new-york'), ('san-diego', 'chicago'), ('san-diego', 'topeka')}\n",
            "    x_index_0 : Size=1, Index=None, Ordered=Insertion\n",
            "        Key  : Dimen : Domain : Size : Members\n",
            "        None :     1 :    Any :    2 : {'seattle', 'san-diego'}\n",
            "    x_index_1 : Size=1, Index=None, Ordered=Insertion\n",
            "        Key  : Dimen : Domain : Size : Members\n",
            "        None :     1 :    Any :    3 : {'new-york', 'chicago', 'topeka'}\n",
            "\n",
            "1 Var Declarations\n",
            "    x : Size=6, Index=x_index\n",
            "        Key                       : Lower : Value : Upper : Fixed : Stale : Domain\n",
            "         ('san-diego', 'chicago') :     0 :  None :  None : False :  True : NonNegativeReals\n",
            "        ('san-diego', 'new-york') :     0 :  None :  None : False :  True : NonNegativeReals\n",
            "          ('san-diego', 'topeka') :     0 :  None :  None : False :  True : NonNegativeReals\n",
            "           ('seattle', 'chicago') :     0 :  None :  None : False :  True : NonNegativeReals\n",
            "          ('seattle', 'new-york') :     0 :  None :  None : False :  True : NonNegativeReals\n",
            "            ('seattle', 'topeka') :     0 :  None :  None : False :  True : NonNegativeReals\n",
            "\n",
            "1 Objective Declarations\n",
            "    cost : Size=1, Index=None, Active=True\n",
            "        Key  : Active : Sense    : Expression\n",
            "        None :   True : minimize : 347.88743276426334*x[seattle,new-york] + 251.0307177209928*x[seattle,chicago] + 210.71081317179556*x[seattle,topeka] + 351.65022491389595*x[san-diego,new-york] + 250.83806053786677*x[san-diego,chicago] + 184.82596146248054*x[san-diego,topeka]\n",
            "\n",
            "2 Constraint Declarations\n",
            "    demand : Size=3, Index=demand_index, Active=True\n",
            "        Key : Lower : Body                                        : Upper : Active\n",
            "          1 : 325.0 : x[seattle,new-york] + x[san-diego,new-york] :  +Inf :   True\n",
            "          2 : 300.0 :   x[seattle,chicago] + x[san-diego,chicago] :  +Inf :   True\n",
            "          3 : 275.0 :     x[seattle,topeka] + x[san-diego,topeka] :  +Inf :   True\n",
            "    supply : Size=2, Index=supply_index, Active=True\n",
            "        Key : Lower : Body                                                               : Upper : Active\n",
            "          1 :  -Inf :       x[seattle,new-york] + x[seattle,chicago] + x[seattle,topeka] : 350.0 :   True\n",
            "          2 :  -Inf : x[san-diego,new-york] + x[san-diego,chicago] + x[san-diego,topeka] : 600.0 :   True\n",
            "\n",
            "9 Declarations: x_index_0 x_index_1 x_index x cost supply_index supply demand_index demand\n"
          ]
        }
      ]
    },
    {
      "cell_type": "code",
      "source": [
        "# Resolución del modelo\n",
        "SolverFactory('glpk', executable='/usr/bin/glpsol').solve(transport).write()\n",
        "\n",
        "sol_transport = {}\n",
        "\n",
        "# Impresión de resultados\n",
        "for i in A:\n",
        "    for j in B:\n",
        "      print(f\"x[{i},{j}] = {transport.x[i, j].value:.2f}\")\n",
        "      if transport.x[i, j].value > 0:\n",
        "        sol_transport[(i,j)] = transport.x[i, j].value\n",
        "      \n",
        "print(f\"z = {transport.cost():.2f}\")"
      ],
      "metadata": {
        "colab": {
          "base_uri": "https://localhost:8080/"
        },
        "id": "9Xjyevlas80E",
        "outputId": "b63ff5f5-86b8-4f4a-f371-30406e67e504"
      },
      "execution_count": 31,
      "outputs": [
        {
          "output_type": "stream",
          "name": "stdout",
          "text": [
            "# ==========================================================\n",
            "# = Solver Results                                         =\n",
            "# ==========================================================\n",
            "# ----------------------------------------------------------\n",
            "#   Problem Information\n",
            "# ----------------------------------------------------------\n",
            "Problem: \n",
            "- Name: unknown\n",
            "  Lower bound: 239141.973211928\n",
            "  Upper bound: 239141.973211928\n",
            "  Number of objectives: 1\n",
            "  Number of constraints: 6\n",
            "  Number of variables: 7\n",
            "  Number of nonzeros: 13\n",
            "  Sense: minimize\n",
            "# ----------------------------------------------------------\n",
            "#   Solver Information\n",
            "# ----------------------------------------------------------\n",
            "Solver: \n",
            "- Status: ok\n",
            "  Termination condition: optimal\n",
            "  Statistics: \n",
            "    Branch and bound: \n",
            "      Number of bounded subproblems: 0\n",
            "      Number of created subproblems: 0\n",
            "  Error rc: 0\n",
            "  Time: 0.025691509246826172\n",
            "# ----------------------------------------------------------\n",
            "#   Solution Information\n",
            "# ----------------------------------------------------------\n",
            "Solution: \n",
            "- number of solutions: 0\n",
            "  number of solutions displayed: 0\n",
            "x[seattle,new-york] = 325.00\n",
            "x[seattle,chicago] = 0.00\n",
            "x[seattle,topeka] = 0.00\n",
            "x[san-diego,new-york] = 0.00\n",
            "x[san-diego,chicago] = 300.00\n",
            "x[san-diego,topeka] = 275.00\n",
            "z = 239141.97\n"
          ]
        }
      ]
    },
    {
      "cell_type": "code",
      "source": [
        "sol_transport"
      ],
      "metadata": {
        "colab": {
          "base_uri": "https://localhost:8080/"
        },
        "id": "H8KQ46qkphtb",
        "outputId": "d648a5f8-987b-4107-bd21-fd10cc5bb0c3"
      },
      "execution_count": 32,
      "outputs": [
        {
          "output_type": "execute_result",
          "data": {
            "text/plain": [
              "{('seattle', 'new-york'): 325.0,\n",
              " ('san-diego', 'chicago'): 300.0,\n",
              " ('san-diego', 'topeka'): 275.0}"
            ]
          },
          "metadata": {},
          "execution_count": 32
        }
      ]
    },
    {
      "cell_type": "code",
      "source": [
        "node = dict(label = list(ciudades.keys()), pad=20, thickness=10)\n",
        "\n",
        "nodos = pd.DataFrame(list(ciudades.keys()),columns=[\"label\"]).reset_index()\n",
        "dict_nodos = nodos.set_index(\"label\")\n",
        "dict_nodos = dict_nodos.to_dict(\"index\")\n",
        "\n",
        "df = pd.DataFrame(sol_transport.items(),index=sol_transport.keys())\n",
        "df = df.reset_index()\n",
        "df[df.columns[0]] = df[df.columns[0]].apply(lambda x: dict_nodos.get(x,{}).get(\"index\",0))\n",
        "df[df.columns[1]] = df[df.columns[1]].apply(lambda x: dict_nodos.get(x,{}).get(\"index\",0))\n",
        "\n",
        "# data\n",
        "source = df[df.columns[0]].tolist()\n",
        "target = df[df.columns[1]].tolist()\n",
        "value  = df[df.columns[3]].tolist()\n",
        "\n",
        "# data to dict, dict to sankey\n",
        "link = dict(source = source, target = target, value = value)"
      ],
      "metadata": {
        "id": "JDn5ZMifELCB"
      },
      "execution_count": 33,
      "outputs": []
    },
    {
      "cell_type": "code",
      "source": [
        "import plotly.graph_objs as go1\n",
        "data = go1.Sankey(link = link, node=node)\n",
        "# plot\n",
        "fig = go1.Figure(data)\n",
        "fig.show()"
      ],
      "metadata": {
        "colab": {
          "base_uri": "https://localhost:8080/",
          "height": 542
        },
        "id": "EzkzWsaQDSle",
        "outputId": "db81582f-875c-4250-9296-52d4372a8b30"
      },
      "execution_count": 34,
      "outputs": [
        {
          "output_type": "display_data",
          "data": {
            "text/html": [
              "<html>\n",
              "<head><meta charset=\"utf-8\" /></head>\n",
              "<body>\n",
              "    <div>            <script src=\"https://cdnjs.cloudflare.com/ajax/libs/mathjax/2.7.5/MathJax.js?config=TeX-AMS-MML_SVG\"></script><script type=\"text/javascript\">if (window.MathJax && window.MathJax.Hub && window.MathJax.Hub.Config) {window.MathJax.Hub.Config({SVG: {font: \"STIX-Web\"}});}</script>                <script type=\"text/javascript\">window.PlotlyConfig = {MathJaxConfig: 'local'};</script>\n",
              "        <script src=\"https://cdn.plot.ly/plotly-2.18.2.min.js\"></script>                <div id=\"e422a0b0-c45e-4979-b6a5-c6d5cce263ab\" class=\"plotly-graph-div\" style=\"height:525px; width:100%;\"></div>            <script type=\"text/javascript\">                                    window.PLOTLYENV=window.PLOTLYENV || {};                                    if (document.getElementById(\"e422a0b0-c45e-4979-b6a5-c6d5cce263ab\")) {                    Plotly.newPlot(                        \"e422a0b0-c45e-4979-b6a5-c6d5cce263ab\",                        [{\"link\":{\"source\":[0,1,1],\"target\":[2,3,4],\"value\":[325.0,300.0,275.0]},\"node\":{\"label\":[\"seattle\",\"san-diego\",\"new-york\",\"chicago\",\"topeka\"],\"pad\":20,\"thickness\":10},\"type\":\"sankey\"}],                        {\"template\":{\"data\":{\"histogram2dcontour\":[{\"type\":\"histogram2dcontour\",\"colorbar\":{\"outlinewidth\":0,\"ticks\":\"\"},\"colorscale\":[[0.0,\"#0d0887\"],[0.1111111111111111,\"#46039f\"],[0.2222222222222222,\"#7201a8\"],[0.3333333333333333,\"#9c179e\"],[0.4444444444444444,\"#bd3786\"],[0.5555555555555556,\"#d8576b\"],[0.6666666666666666,\"#ed7953\"],[0.7777777777777778,\"#fb9f3a\"],[0.8888888888888888,\"#fdca26\"],[1.0,\"#f0f921\"]]}],\"choropleth\":[{\"type\":\"choropleth\",\"colorbar\":{\"outlinewidth\":0,\"ticks\":\"\"}}],\"histogram2d\":[{\"type\":\"histogram2d\",\"colorbar\":{\"outlinewidth\":0,\"ticks\":\"\"},\"colorscale\":[[0.0,\"#0d0887\"],[0.1111111111111111,\"#46039f\"],[0.2222222222222222,\"#7201a8\"],[0.3333333333333333,\"#9c179e\"],[0.4444444444444444,\"#bd3786\"],[0.5555555555555556,\"#d8576b\"],[0.6666666666666666,\"#ed7953\"],[0.7777777777777778,\"#fb9f3a\"],[0.8888888888888888,\"#fdca26\"],[1.0,\"#f0f921\"]]}],\"heatmap\":[{\"type\":\"heatmap\",\"colorbar\":{\"outlinewidth\":0,\"ticks\":\"\"},\"colorscale\":[[0.0,\"#0d0887\"],[0.1111111111111111,\"#46039f\"],[0.2222222222222222,\"#7201a8\"],[0.3333333333333333,\"#9c179e\"],[0.4444444444444444,\"#bd3786\"],[0.5555555555555556,\"#d8576b\"],[0.6666666666666666,\"#ed7953\"],[0.7777777777777778,\"#fb9f3a\"],[0.8888888888888888,\"#fdca26\"],[1.0,\"#f0f921\"]]}],\"heatmapgl\":[{\"type\":\"heatmapgl\",\"colorbar\":{\"outlinewidth\":0,\"ticks\":\"\"},\"colorscale\":[[0.0,\"#0d0887\"],[0.1111111111111111,\"#46039f\"],[0.2222222222222222,\"#7201a8\"],[0.3333333333333333,\"#9c179e\"],[0.4444444444444444,\"#bd3786\"],[0.5555555555555556,\"#d8576b\"],[0.6666666666666666,\"#ed7953\"],[0.7777777777777778,\"#fb9f3a\"],[0.8888888888888888,\"#fdca26\"],[1.0,\"#f0f921\"]]}],\"contourcarpet\":[{\"type\":\"contourcarpet\",\"colorbar\":{\"outlinewidth\":0,\"ticks\":\"\"}}],\"contour\":[{\"type\":\"contour\",\"colorbar\":{\"outlinewidth\":0,\"ticks\":\"\"},\"colorscale\":[[0.0,\"#0d0887\"],[0.1111111111111111,\"#46039f\"],[0.2222222222222222,\"#7201a8\"],[0.3333333333333333,\"#9c179e\"],[0.4444444444444444,\"#bd3786\"],[0.5555555555555556,\"#d8576b\"],[0.6666666666666666,\"#ed7953\"],[0.7777777777777778,\"#fb9f3a\"],[0.8888888888888888,\"#fdca26\"],[1.0,\"#f0f921\"]]}],\"surface\":[{\"type\":\"surface\",\"colorbar\":{\"outlinewidth\":0,\"ticks\":\"\"},\"colorscale\":[[0.0,\"#0d0887\"],[0.1111111111111111,\"#46039f\"],[0.2222222222222222,\"#7201a8\"],[0.3333333333333333,\"#9c179e\"],[0.4444444444444444,\"#bd3786\"],[0.5555555555555556,\"#d8576b\"],[0.6666666666666666,\"#ed7953\"],[0.7777777777777778,\"#fb9f3a\"],[0.8888888888888888,\"#fdca26\"],[1.0,\"#f0f921\"]]}],\"mesh3d\":[{\"type\":\"mesh3d\",\"colorbar\":{\"outlinewidth\":0,\"ticks\":\"\"}}],\"scatter\":[{\"fillpattern\":{\"fillmode\":\"overlay\",\"size\":10,\"solidity\":0.2},\"type\":\"scatter\"}],\"parcoords\":[{\"type\":\"parcoords\",\"line\":{\"colorbar\":{\"outlinewidth\":0,\"ticks\":\"\"}}}],\"scatterpolargl\":[{\"type\":\"scatterpolargl\",\"marker\":{\"colorbar\":{\"outlinewidth\":0,\"ticks\":\"\"}}}],\"bar\":[{\"error_x\":{\"color\":\"#2a3f5f\"},\"error_y\":{\"color\":\"#2a3f5f\"},\"marker\":{\"line\":{\"color\":\"#E5ECF6\",\"width\":0.5},\"pattern\":{\"fillmode\":\"overlay\",\"size\":10,\"solidity\":0.2}},\"type\":\"bar\"}],\"scattergeo\":[{\"type\":\"scattergeo\",\"marker\":{\"colorbar\":{\"outlinewidth\":0,\"ticks\":\"\"}}}],\"scatterpolar\":[{\"type\":\"scatterpolar\",\"marker\":{\"colorbar\":{\"outlinewidth\":0,\"ticks\":\"\"}}}],\"histogram\":[{\"marker\":{\"pattern\":{\"fillmode\":\"overlay\",\"size\":10,\"solidity\":0.2}},\"type\":\"histogram\"}],\"scattergl\":[{\"type\":\"scattergl\",\"marker\":{\"colorbar\":{\"outlinewidth\":0,\"ticks\":\"\"}}}],\"scatter3d\":[{\"type\":\"scatter3d\",\"line\":{\"colorbar\":{\"outlinewidth\":0,\"ticks\":\"\"}},\"marker\":{\"colorbar\":{\"outlinewidth\":0,\"ticks\":\"\"}}}],\"scattermapbox\":[{\"type\":\"scattermapbox\",\"marker\":{\"colorbar\":{\"outlinewidth\":0,\"ticks\":\"\"}}}],\"scatterternary\":[{\"type\":\"scatterternary\",\"marker\":{\"colorbar\":{\"outlinewidth\":0,\"ticks\":\"\"}}}],\"scattercarpet\":[{\"type\":\"scattercarpet\",\"marker\":{\"colorbar\":{\"outlinewidth\":0,\"ticks\":\"\"}}}],\"carpet\":[{\"aaxis\":{\"endlinecolor\":\"#2a3f5f\",\"gridcolor\":\"white\",\"linecolor\":\"white\",\"minorgridcolor\":\"white\",\"startlinecolor\":\"#2a3f5f\"},\"baxis\":{\"endlinecolor\":\"#2a3f5f\",\"gridcolor\":\"white\",\"linecolor\":\"white\",\"minorgridcolor\":\"white\",\"startlinecolor\":\"#2a3f5f\"},\"type\":\"carpet\"}],\"table\":[{\"cells\":{\"fill\":{\"color\":\"#EBF0F8\"},\"line\":{\"color\":\"white\"}},\"header\":{\"fill\":{\"color\":\"#C8D4E3\"},\"line\":{\"color\":\"white\"}},\"type\":\"table\"}],\"barpolar\":[{\"marker\":{\"line\":{\"color\":\"#E5ECF6\",\"width\":0.5},\"pattern\":{\"fillmode\":\"overlay\",\"size\":10,\"solidity\":0.2}},\"type\":\"barpolar\"}],\"pie\":[{\"automargin\":true,\"type\":\"pie\"}]},\"layout\":{\"autotypenumbers\":\"strict\",\"colorway\":[\"#636efa\",\"#EF553B\",\"#00cc96\",\"#ab63fa\",\"#FFA15A\",\"#19d3f3\",\"#FF6692\",\"#B6E880\",\"#FF97FF\",\"#FECB52\"],\"font\":{\"color\":\"#2a3f5f\"},\"hovermode\":\"closest\",\"hoverlabel\":{\"align\":\"left\"},\"paper_bgcolor\":\"white\",\"plot_bgcolor\":\"#E5ECF6\",\"polar\":{\"bgcolor\":\"#E5ECF6\",\"angularaxis\":{\"gridcolor\":\"white\",\"linecolor\":\"white\",\"ticks\":\"\"},\"radialaxis\":{\"gridcolor\":\"white\",\"linecolor\":\"white\",\"ticks\":\"\"}},\"ternary\":{\"bgcolor\":\"#E5ECF6\",\"aaxis\":{\"gridcolor\":\"white\",\"linecolor\":\"white\",\"ticks\":\"\"},\"baxis\":{\"gridcolor\":\"white\",\"linecolor\":\"white\",\"ticks\":\"\"},\"caxis\":{\"gridcolor\":\"white\",\"linecolor\":\"white\",\"ticks\":\"\"}},\"coloraxis\":{\"colorbar\":{\"outlinewidth\":0,\"ticks\":\"\"}},\"colorscale\":{\"sequential\":[[0.0,\"#0d0887\"],[0.1111111111111111,\"#46039f\"],[0.2222222222222222,\"#7201a8\"],[0.3333333333333333,\"#9c179e\"],[0.4444444444444444,\"#bd3786\"],[0.5555555555555556,\"#d8576b\"],[0.6666666666666666,\"#ed7953\"],[0.7777777777777778,\"#fb9f3a\"],[0.8888888888888888,\"#fdca26\"],[1.0,\"#f0f921\"]],\"sequentialminus\":[[0.0,\"#0d0887\"],[0.1111111111111111,\"#46039f\"],[0.2222222222222222,\"#7201a8\"],[0.3333333333333333,\"#9c179e\"],[0.4444444444444444,\"#bd3786\"],[0.5555555555555556,\"#d8576b\"],[0.6666666666666666,\"#ed7953\"],[0.7777777777777778,\"#fb9f3a\"],[0.8888888888888888,\"#fdca26\"],[1.0,\"#f0f921\"]],\"diverging\":[[0,\"#8e0152\"],[0.1,\"#c51b7d\"],[0.2,\"#de77ae\"],[0.3,\"#f1b6da\"],[0.4,\"#fde0ef\"],[0.5,\"#f7f7f7\"],[0.6,\"#e6f5d0\"],[0.7,\"#b8e186\"],[0.8,\"#7fbc41\"],[0.9,\"#4d9221\"],[1,\"#276419\"]]},\"xaxis\":{\"gridcolor\":\"white\",\"linecolor\":\"white\",\"ticks\":\"\",\"title\":{\"standoff\":15},\"zerolinecolor\":\"white\",\"automargin\":true,\"zerolinewidth\":2},\"yaxis\":{\"gridcolor\":\"white\",\"linecolor\":\"white\",\"ticks\":\"\",\"title\":{\"standoff\":15},\"zerolinecolor\":\"white\",\"automargin\":true,\"zerolinewidth\":2},\"scene\":{\"xaxis\":{\"backgroundcolor\":\"#E5ECF6\",\"gridcolor\":\"white\",\"linecolor\":\"white\",\"showbackground\":true,\"ticks\":\"\",\"zerolinecolor\":\"white\",\"gridwidth\":2},\"yaxis\":{\"backgroundcolor\":\"#E5ECF6\",\"gridcolor\":\"white\",\"linecolor\":\"white\",\"showbackground\":true,\"ticks\":\"\",\"zerolinecolor\":\"white\",\"gridwidth\":2},\"zaxis\":{\"backgroundcolor\":\"#E5ECF6\",\"gridcolor\":\"white\",\"linecolor\":\"white\",\"showbackground\":true,\"ticks\":\"\",\"zerolinecolor\":\"white\",\"gridwidth\":2}},\"shapedefaults\":{\"line\":{\"color\":\"#2a3f5f\"}},\"annotationdefaults\":{\"arrowcolor\":\"#2a3f5f\",\"arrowhead\":0,\"arrowwidth\":1},\"geo\":{\"bgcolor\":\"white\",\"landcolor\":\"#E5ECF6\",\"subunitcolor\":\"white\",\"showland\":true,\"showlakes\":true,\"lakecolor\":\"white\"},\"title\":{\"x\":0.05},\"mapbox\":{\"style\":\"light\"}}}},                        {\"responsive\": true}                    ).then(function(){\n",
              "                            \n",
              "var gd = document.getElementById('e422a0b0-c45e-4979-b6a5-c6d5cce263ab');\n",
              "var x = new MutationObserver(function (mutations, observer) {{\n",
              "        var display = window.getComputedStyle(gd).display;\n",
              "        if (!display || display === 'none') {{\n",
              "            console.log([gd, 'removed!']);\n",
              "            Plotly.purge(gd);\n",
              "            observer.disconnect();\n",
              "        }}\n",
              "}});\n",
              "\n",
              "// Listen for the removal of the full notebook cells\n",
              "var notebookContainer = gd.closest('#notebook-container');\n",
              "if (notebookContainer) {{\n",
              "    x.observe(notebookContainer, {childList: true});\n",
              "}}\n",
              "\n",
              "// Listen for the clearing of the current output cell\n",
              "var outputEl = gd.closest('.output');\n",
              "if (outputEl) {{\n",
              "    x.observe(outputEl, {childList: true});\n",
              "}}\n",
              "\n",
              "                        })                };                            </script>        </div>\n",
              "</body>\n",
              "</html>"
            ]
          },
          "metadata": {}
        }
      ]
    }
  ]
}