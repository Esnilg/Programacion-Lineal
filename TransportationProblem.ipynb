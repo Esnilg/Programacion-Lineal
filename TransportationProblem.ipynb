{
  "nbformat": 4,
  "nbformat_minor": 0,
  "metadata": {
    "colab": {
      "provenance": []
    },
    "kernelspec": {
      "name": "python3",
      "display_name": "Python 3"
    },
    "language_info": {
      "name": "python"
    }
  },
  "cells": [
    {
      "cell_type": "code",
      "source": [
        "!pip install -q pyomo"
      ],
      "metadata": {
        "id": "icBxxhlFspo2"
      },
      "execution_count": 45,
      "outputs": []
    },
    {
      "cell_type": "code",
      "source": [
        "!apt-get install -y -qq glpk-utils"
      ],
      "metadata": {
        "id": "4cVyoebAs_JM"
      },
      "execution_count": 50,
      "outputs": []
    },
    {
      "cell_type": "markdown",
      "source": [
        "# A Transportation Problem\n",
        "\n",
        "This problem finds a least cost shipping schedule that meets\n",
        "requirements at markets and supplies at factories.\n",
        "\n",
        "\n",
        "Dantzig, G B, Chapter 3.3. In Linear Programming and Extensions.\n",
        "Princeton University Press, Princeton, New Jersey, 1963.\n",
        "\n",
        "This formulation is described in detail in:\n",
        "Rosenthal, R E, Chapter 2: A GAMS Tutorial. In GAMS: A User's Guide.\n",
        "The Scientific Press, Redwood City, California, 1988.\n",
        "\n",
        "The line numbers will not match those in the book because of these\n",
        "comments.\n",
        "\n",
        "Keywords: linear programming, transportation problem, scheduling"
      ],
      "metadata": {
        "id": "NLQfJ065dz9L"
      }
    },
    {
      "cell_type": "code",
      "source": [
        "from geopy.geocoders import Nominatim\n",
        "\n",
        "# Lista de ciudades en A y B\n",
        "A = ['seattle', 'san-diego'] # nodos origen\n",
        "B = ['new-york', 'chicago', 'topeka'] # nodos destinos\n",
        "\n",
        "# Crear un objeto de geolocalizador de Nominatim\n",
        "geolocator = Nominatim(user_agent=\"myGeocoder\")\n",
        "\n",
        "# Obtener coordenadas de ciudades en la lista A\n",
        "coordenadas_A = {}\n",
        "for ciudad in A:\n",
        "    location = geolocator.geocode(ciudad)\n",
        "    if location is not None:\n",
        "        coordenadas_A[ciudad] = (location.latitude, location.longitude)\n",
        "    else:\n",
        "        coordenadas_A[ciudad] = (None, None)\n",
        "\n",
        "# Obtener coordenadas de ciudades en la lista B\n",
        "coordenadas_B = {}\n",
        "for ciudad in B:\n",
        "    location = geolocator.geocode(ciudad)\n",
        "    if location is not None:\n",
        "        coordenadas_B[ciudad] = (location.latitude, location.longitude)\n",
        "    else:\n",
        "        coordenadas_B[ciudad] = (None, None)\n",
        "\n",
        "# Imprimir resultados\n",
        "print(\"Coordenadas de ciudades en A:\")\n",
        "for ciudad, Ubi in coordenadas_A.items():\n",
        "    print(f\"Ciudad: {ciudad}, Latitud: {Ubi[0]}, Longitud: {Ubi[1]}\")\n",
        "\n",
        "print(\"Coordenadas de ciudades en B:\")\n",
        "for ciudad, Ubi in coordenadas_B.items():\n",
        "    print(f\"Ciudad: {ciudad}, Latitud: {Ubi[0]}, Longitud: {Ubi[1]}\")\n",
        "\n",
        "\n"
      ],
      "metadata": {
        "colab": {
          "base_uri": "https://localhost:8080/"
        },
        "id": "lVATGBAjejHE",
        "outputId": "78d91f37-e51f-4374-c5ff-ad1a09b381e5"
      },
      "execution_count": 46,
      "outputs": [
        {
          "output_type": "stream",
          "name": "stdout",
          "text": [
            "Coordenadas de ciudades en A:\n",
            "Ciudad: seattle, Latitud: 47.6038321, Longitud: -122.330062\n",
            "Ciudad: san-diego, Latitud: 32.7174202, Longitud: -117.1627728\n",
            "Coordenadas de ciudades en B:\n",
            "Ciudad: new-york, Latitud: 40.7127281, Longitud: -74.0060152\n",
            "Ciudad: chicago, Latitud: 41.8755616, Longitud: -87.6244212\n",
            "Ciudad: topeka, Latitud: 39.049011, Longitud: -95.677556\n"
          ]
        }
      ]
    },
    {
      "cell_type": "code",
      "source": [
        "ciudades = {**coordenadas_A,**coordenadas_B}"
      ],
      "metadata": {
        "id": "2k5MCAZGjpXW"
      },
      "execution_count": 47,
      "outputs": []
    },
    {
      "cell_type": "code",
      "source": [
        "import networkx as nx\n",
        "import matplotlib.pyplot as plt\n",
        "from geopy.distance import great_circle\n",
        "\n",
        "# Crear un grafo vacío\n",
        "G = nx.Graph()\n",
        "\n",
        "# Agregar nodos con nombres de ciudades como etiquetas\n",
        "# Agregar nodos de ciudades en A con color rojo\n",
        "for ciudad in coordenadas_A.keys():\n",
        "    G.add_node(ciudad, color='red')\n",
        "\n",
        "# Agregar nodos de ciudades en B con color azul\n",
        "for ciudad in coordenadas_B.keys():\n",
        "    G.add_node(ciudad, color='blue')\n",
        "\n",
        "# Calcular y agregar aristas (conexiones) con la distancia entre ciudades\n",
        "for ciudad1, coord1 in coordenadas_A.items():\n",
        "    for ciudad2, coord2 in coordenadas_B.items():\n",
        "      distancia = great_circle(coord1, coord2).km  # Calcular distancia en kilómetros\n",
        "      G.add_edge(ciudad1, ciudad2, weight=distancia)  # Agregar arista con atributo de peso (distancia)\n",
        "\n",
        "# Visualizar el grafo con etiquetas de ciudades y pesos en las aristas\n",
        "pos = nx.spring_layout(G)  # Asignar posiciones a los nodos\n",
        "# Obtener colores de nodos\n",
        "colors = [G.nodes[node]['color'] for node in G.nodes()]\n",
        "\n",
        "nx.draw_networkx_nodes(G, pos, node_color=colors, node_size=500)  # Dibujar nodos\n",
        "nx.draw_networkx_labels(G, pos, labels={ciudad: ciudad for ciudad in ciudades})  # Dibujar etiquetas de ciudades\n",
        "nx.draw_networkx_edges(G, pos, width=1.0, alpha=0.5)  # Dibujar aristas\n",
        "nx.draw_networkx_edge_labels(G, pos, edge_labels={(ciudad1, ciudad2): f\"{distancia:.2f} km\" for (ciudad1, ciudad2, distancia) in G.edges(data='weight')}, label_pos=0.5, font_size=8)  # Dibujar etiquetas de pesos en aristas\n",
        "plt.axis('off')  # Desactivar los ejes\n",
        "plt.title(\"Red de Ciudades con Distancias\")  # Agregar título al grafo\n",
        "plt.show()  # Mostrar el grafo"
      ],
      "metadata": {
        "colab": {
          "base_uri": "https://localhost:8080/",
          "height": 428
        },
        "id": "cc-H1orCd2Ot",
        "outputId": "9c85bff2-50bf-4970-953a-d0275de96fa0"
      },
      "execution_count": 62,
      "outputs": [
        {
          "output_type": "display_data",
          "data": {
            "text/plain": [
              "<Figure size 640x480 with 1 Axes>"
            ],
            "image/png": "[encoded data removed]"
          },
          "metadata": {}
        }
      ]
    },
    {
      "cell_type": "code",
      "source": [
        "from pyomo.environ import *\n",
        "\n",
        "A = list(coordenadas_A.keys())\n",
        "B = list(coordenadas_B.keys())\n",
        "\n",
        "# Definición de parámetros\n",
        "a = {'seattle': 350, 'san-diego': 600}\n",
        "b = {'new-york': 325, 'chicago': 300, 'topeka': 275}\n",
        "\n",
        "f = 90 # fletes en dolares por caja\n",
        "\n",
        "# Cálculo de costos de transporte\n",
        "c = {(i, j): f * G.get_edge_data(i, j)['weight'] / 1000 for i in coordenadas_A for j in coordenadas_B}\n",
        "\n",
        "# Creación del modelo\n",
        "transport = ConcreteModel(\"Transport\")\n",
        "\n",
        "# Definición de variables\n",
        "transport.x = Var(A, B, within=NonNegativeReals)\n",
        "\n",
        "# Definición de función objetivo\n",
        "transport.cost = Objective(expr=sum(c[i, j] * transport.x[i, j] for i in A for j in B), sense=minimize)\n",
        "\n",
        "# Definición de restricciones\n",
        "transport.supply = ConstraintList()\n",
        "for i in A:\n",
        "    transport.supply.add(sum(transport.x[i, j] for j in B) <= a[i])\n",
        "\n",
        "transport.demand = ConstraintList()\n",
        "for j in B:\n",
        "    transport.demand.add(sum(transport.x[i, j] for i in A) >= b[j])\n",
        "\n",
        "transport.pprint()\n"
      ],
      "metadata": {
        "colab": {
          "base_uri": "https://localhost:8080/"
        },
        "id": "xG7xcpkdhpPU",
        "outputId": "f00df377-d3d4-47f9-d978-742fdcf664f8"
      },
      "execution_count": 53,
      "outputs": [
        {
          "output_type": "stream",
          "name": "stdout",
          "text": [
            "5 Set Declarations\n",
            "    demand_index : Size=1, Index=None, Ordered=Insertion\n",
            "        Key  : Dimen : Domain : Size : Members\n",
            "        None :     1 :    Any :    3 : {1, 2, 3}\n",
            "    supply_index : Size=1, Index=None, Ordered=Insertion\n",
            "        Key  : Dimen : Domain : Size : Members\n",
            "        None :     1 :    Any :    2 : {1, 2}\n",
            "    x_index : Size=1, Index=None, Ordered=True\n",
            "        Key  : Dimen : Domain              : Size : Members\n",
            "        None :     2 : x_index_0*x_index_1 :    6 : {('seattle', 'new-york'), ('seattle', 'chicago'), ('seattle', 'topeka'), ('san-diego', 'new-york'), ('san-diego', 'chicago'), ('san-diego', 'topeka')}\n",
            "    x_index_0 : Size=1, Index=None, Ordered=Insertion\n",
            "        Key  : Dimen : Domain : Size : Members\n",
            "        None :     1 :    Any :    2 : {'seattle', 'san-diego'}\n",
            "    x_index_1 : Size=1, Index=None, Ordered=Insertion\n",
            "        Key  : Dimen : Domain : Size : Members\n",
            "        None :     1 :    Any :    3 : {'new-york', 'chicago', 'topeka'}\n",
            "\n",
            "1 Var Declarations\n",
            "    x : Size=6, Index=x_index\n",
            "        Key                       : Lower : Value : Upper : Fixed : Stale : Domain\n",
            "         ('san-diego', 'chicago') :     0 :  None :  None : False :  True : NonNegativeReals\n",
            "        ('san-diego', 'new-york') :     0 :  None :  None : False :  True : NonNegativeReals\n",
            "          ('san-diego', 'topeka') :     0 :  None :  None : False :  True : NonNegativeReals\n",
            "           ('seattle', 'chicago') :     0 :  None :  None : False :  True : NonNegativeReals\n",
            "          ('seattle', 'new-york') :     0 :  None :  None : False :  True : NonNegativeReals\n",
            "            ('seattle', 'topeka') :     0 :  None :  None : False :  True : NonNegativeReals\n",
            "\n",
            "1 Objective Declarations\n",
            "    cost : Size=1, Index=None, Active=True\n",
            "        Key  : Active : Sense    : Expression\n",
            "        None :   True : minimize : 347.88743276426334*x[seattle,new-york] + 251.0307177209928*x[seattle,chicago] + 210.71081317179556*x[seattle,topeka] + 351.65022491389595*x[san-diego,new-york] + 250.83806053786677*x[san-diego,chicago] + 184.82596146248054*x[san-diego,topeka]\n",
            "\n",
            "2 Constraint Declarations\n",
            "    demand : Size=3, Index=demand_index, Active=True\n",
            "        Key : Lower : Body                                        : Upper : Active\n",
            "          1 : 325.0 : x[seattle,new-york] + x[san-diego,new-york] :  +Inf :   True\n",
            "          2 : 300.0 :   x[seattle,chicago] + x[san-diego,chicago] :  +Inf :   True\n",
            "          3 : 275.0 :     x[seattle,topeka] + x[san-diego,topeka] :  +Inf :   True\n",
            "    supply : Size=2, Index=supply_index, Active=True\n",
            "        Key : Lower : Body                                                               : Upper : Active\n",
            "          1 :  -Inf :       x[seattle,new-york] + x[seattle,chicago] + x[seattle,topeka] : 350.0 :   True\n",
            "          2 :  -Inf : x[san-diego,new-york] + x[san-diego,chicago] + x[san-diego,topeka] : 600.0 :   True\n",
            "\n",
            "9 Declarations: x_index_0 x_index_1 x_index x cost supply_index supply demand_index demand\n"
          ]
        }
      ]
    },
    {
      "cell_type": "code",
      "source": [
        "# Resolución del modelo\n",
        "SolverFactory('glpk', executable='/usr/bin/glpsol').solve(transport).write()\n",
        "\n",
        "sol_transport = {}\n",
        "\n",
        "# Impresión de resultados\n",
        "for i in A:\n",
        "    for j in B:\n",
        "      print(f\"x[{i},{j}] = {transport.x[i, j].value:.2f}\")\n",
        "      if transport.x[i, j].value > 0:\n",
        "        sol_transport[(i,j)] = transport.x[i, j].value\n",
        "      \n",
        "print(f\"z = {transport.cost():.2f}\")"
      ],
      "metadata": {
        "colab": {
          "base_uri": "https://localhost:8080/"
        },
        "id": "9Xjyevlas80E",
        "outputId": "751cd71e-b2f2-4d2d-8773-9f1d153ddd7c"
      },
      "execution_count": 55,
      "outputs": [
        {
          "output_type": "stream",
          "name": "stdout",
          "text": [
            "# ==========================================================\n",
            "# = Solver Results                                         =\n",
            "# ==========================================================\n",
            "# ----------------------------------------------------------\n",
            "#   Problem Information\n",
            "# ----------------------------------------------------------\n",
            "Problem: \n",
            "- Name: unknown\n",
            "  Lower bound: 239141.973211928\n",
            "  Upper bound: 239141.973211928\n",
            "  Number of objectives: 1\n",
            "  Number of constraints: 6\n",
            "  Number of variables: 7\n",
            "  Number of nonzeros: 13\n",
            "  Sense: minimize\n",
            "# ----------------------------------------------------------\n",
            "#   Solver Information\n",
            "# ----------------------------------------------------------\n",
            "Solver: \n",
            "- Status: ok\n",
            "  Termination condition: optimal\n",
            "  Statistics: \n",
            "    Branch and bound: \n",
            "      Number of bounded subproblems: 0\n",
            "      Number of created subproblems: 0\n",
            "  Error rc: 0\n",
            "  Time: 0.015187978744506836\n",
            "# ----------------------------------------------------------\n",
            "#   Solution Information\n",
            "# ----------------------------------------------------------\n",
            "Solution: \n",
            "- number of solutions: 0\n",
            "  number of solutions displayed: 0\n",
            "x[seattle,new-york] = 325.00\n",
            "x[seattle,chicago] = 0.00\n",
            "x[seattle,topeka] = 0.00\n",
            "x[san-diego,new-york] = 0.00\n",
            "x[san-diego,chicago] = 300.00\n",
            "x[san-diego,topeka] = 275.00\n",
            "z = 239141.97\n"
          ]
        }
      ]
    },
    {
      "cell_type": "code",
      "source": [
        "sol_transport"
      ],
      "metadata": {
        "colab": {
          "base_uri": "https://localhost:8080/"
        },
        "id": "H8KQ46qkphtb",
        "outputId": "cff6dfb0-95b5-4a67-bd65-467cc1cb72f0"
      },
      "execution_count": 56,
      "outputs": [
        {
          "output_type": "execute_result",
          "data": {
            "text/plain": [
              "{('seattle', 'new-york'): 325.0,\n",
              " ('san-diego', 'chicago'): 300.0,\n",
              " ('san-diego', 'topeka'): 275.0}"
            ]
          },
          "metadata": {},
          "execution_count": 56
        }
      ]
    },
    {
      "cell_type": "code",
      "source": [
        "# Crear un grafo vacío\n",
        "G = nx.Graph()\n",
        "\n",
        "# Agregar nodos con nombres de ciudades como etiquetas\n",
        "for ciudad in coordenadas_A.keys():\n",
        "    G.add_node(ciudad, color='red')\n",
        "\n",
        "# Agregar nodos de ciudades en B con color azul\n",
        "for ciudad in coordenadas_B.keys():\n",
        "    G.add_node(ciudad, color='blue')\n",
        "\n",
        "# Calcular y agregar aristas (conexiones) con la distancia entre ciudades\n",
        "for ciudad1, coord1 in coordenadas_A.items():\n",
        "    for ciudad2, coord2 in coordenadas_B.items():\n",
        "      distancia = sol_transport.get((ciudad1,ciudad2),0)\n",
        "      if distancia >0 :\n",
        "        G.add_edge(ciudad1, ciudad2, weight=distancia)  # Agregar arista con atributo de peso (distancia)\n",
        "\n",
        "# Visualizar el grafo con etiquetas de ciudades y pesos en las aristas\n",
        "pos = nx.spring_layout(G)  # Asignar posiciones a los nodos\n",
        "colors = [G.nodes[node]['color'] for node in G.nodes()]\n",
        "nx.draw_networkx_nodes(G, pos, node_color=colors, node_size=500)  # Dibujar nodos\n",
        "nx.draw_networkx_labels(G, pos, labels={ciudad: ciudad for ciudad in ciudades})  # Dibujar etiquetas de ciudades\n",
        "nx.draw_networkx_edges(G, pos, width=1.0, alpha=0.5)  # Dibujar aristas\n",
        "nx.draw_networkx_edge_labels(G, pos, edge_labels={(ciudad1, ciudad2): f\"{distancia:.2f}\" for (ciudad1, ciudad2, distancia) in G.edges(data='weight')}, label_pos=0.5, font_size=8)  # Dibujar etiquetas de pesos en aristas\n",
        "plt.axis('off')  # Desactivar los ejes\n",
        "plt.title(\"Red de Ciudades con Distancias\")  # Agregar título al grafo\n",
        "plt.show()  # Mostrar el grafo"
      ],
      "metadata": {
        "colab": {
          "base_uri": "https://localhost:8080/",
          "height": 428
        },
        "id": "W1u8egsDxEkD",
        "outputId": "d62ba233-96f1-496b-ef6b-4fb983cfa1fc"
      },
      "execution_count": 67,
      "outputs": [
        {
          "output_type": "display_data",
          "data": {
            "text/plain": [
              "<Figure size 640x480 with 1 Axes>"
            ],
            "image/png": "[encoded data removed]"
          },
          "metadata": {}
        }
      ]
    }
  ]
}